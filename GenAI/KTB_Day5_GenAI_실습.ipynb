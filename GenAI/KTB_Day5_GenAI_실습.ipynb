{
 "cells": [
  {
   "cell_type": "markdown",
   "id": "38019bf4-cedc-4ade-970f-bde94df746d1",
   "metadata": {},
   "source": [
    "# Data Download"
   ]
  },
  {
   "cell_type": "code",
   "execution_count": 3,
   "id": "07b8c131-0a5c-4513-8d7b-27fa8f389ff7",
   "metadata": {},
   "outputs": [],
   "source": [
    "!kaggle datasets download -d rashikrahmanpritom/heart-attack-analysis-prediction-dataset"
   ]
  },
  {
   "cell_type": "code",
   "execution_count": 4,
   "id": "189164d3-a8ce-4c17-986e-b8bbf12aaf8a",
   "metadata": {},
   "outputs": [],
   "source": [
    "!unzip heart-attack-analysis-prediction-dataset.zip"
   ]
  },
  {
   "cell_type": "markdown",
   "id": "dd55db5c-c85a-45da-a51d-51df70c7c27a",
   "metadata": {},
   "source": [
    "# Data Description\n",
    "- Age : Age of the patient\n",
    "- Sex : Sex of the patient\n",
    "- exang: exercise induced angina (1 = yes; 0 = no)\n",
    "- ca: number of major vessels (0-3)\n",
    "- cp : Chest Pain type chest pain type\n",
    "  - Value 1: typical angina\n",
    "  - Value 2: atypical angina\n",
    "  - Value 3: non-anginal pain\n",
    "  - Value 4: asymptomatic\n",
    "- trtbps : resting blood pressure (in mm Hg)\n",
    "- chol : cholestoral in mg/dl fetched via BMI sensor\n",
    "- fbs : (fasting blood sugar > 120 mg/dl) (1 = true; 0 = false)\n",
    "- rest_ecg : resting electrocardiographic results\n",
    "  - Value 0: normal\n",
    "  - Value 1: having ST-T wave abnormality (T wave inversions and/or ST elevation or depression of > 0.05 mV)\n",
    "  - Value 2: showing probable or definite left ventricular hypertrophy by Estes' criteria\n",
    "- thalach : maximum heart rate achieved\n",
    "- target : 0= less chance of heart attack 1= more chance of heart attack"
   ]
  },
  {
   "cell_type": "markdown",
   "id": "1e4f0faf-423d-4d23-8570-a97363e2f21e",
   "metadata": {},
   "source": [
    "# Data Analysis"
   ]
  },
  {
   "cell_type": "code",
   "execution_count": 7,
   "id": "63df12d8-b733-478f-9053-bd0a80b89a41",
   "metadata": {},
   "outputs": [],
   "source": [
    "import pandas as pd"
   ]
  },
  {
   "cell_type": "code",
   "execution_count": 8,
   "id": "94f308bb-b131-4b93-815f-b196add740e0",
   "metadata": {},
   "outputs": [],
   "source": [
    "data = pd.read_csv('Data/heart.csv')"
   ]
  },
  {
   "cell_type": "code",
   "execution_count": 9,
   "id": "31164b05-9e6e-42a8-b0fb-d24f3d91c2c5",
   "metadata": {},
   "outputs": [
    {
     "data": {
      "text/html": [
       "<div>\n",
       "<style scoped>\n",
       "    .dataframe tbody tr th:only-of-type {\n",
       "        vertical-align: middle;\n",
       "    }\n",
       "\n",
       "    .dataframe tbody tr th {\n",
       "        vertical-align: top;\n",
       "    }\n",
       "\n",
       "    .dataframe thead th {\n",
       "        text-align: right;\n",
       "    }\n",
       "</style>\n",
       "<table border=\"1\" class=\"dataframe\">\n",
       "  <thead>\n",
       "    <tr style=\"text-align: right;\">\n",
       "      <th></th>\n",
       "      <th>age</th>\n",
       "      <th>sex</th>\n",
       "      <th>cp</th>\n",
       "      <th>trtbps</th>\n",
       "      <th>chol</th>\n",
       "      <th>fbs</th>\n",
       "      <th>restecg</th>\n",
       "      <th>thalachh</th>\n",
       "      <th>exng</th>\n",
       "      <th>oldpeak</th>\n",
       "      <th>slp</th>\n",
       "      <th>caa</th>\n",
       "      <th>thall</th>\n",
       "      <th>output</th>\n",
       "    </tr>\n",
       "  </thead>\n",
       "  <tbody>\n",
       "    <tr>\n",
       "      <th>0</th>\n",
       "      <td>63</td>\n",
       "      <td>1</td>\n",
       "      <td>3</td>\n",
       "      <td>145</td>\n",
       "      <td>233</td>\n",
       "      <td>1</td>\n",
       "      <td>0</td>\n",
       "      <td>150</td>\n",
       "      <td>0</td>\n",
       "      <td>2.3</td>\n",
       "      <td>0</td>\n",
       "      <td>0</td>\n",
       "      <td>1</td>\n",
       "      <td>1</td>\n",
       "    </tr>\n",
       "    <tr>\n",
       "      <th>1</th>\n",
       "      <td>37</td>\n",
       "      <td>1</td>\n",
       "      <td>2</td>\n",
       "      <td>130</td>\n",
       "      <td>250</td>\n",
       "      <td>0</td>\n",
       "      <td>1</td>\n",
       "      <td>187</td>\n",
       "      <td>0</td>\n",
       "      <td>3.5</td>\n",
       "      <td>0</td>\n",
       "      <td>0</td>\n",
       "      <td>2</td>\n",
       "      <td>1</td>\n",
       "    </tr>\n",
       "    <tr>\n",
       "      <th>2</th>\n",
       "      <td>41</td>\n",
       "      <td>0</td>\n",
       "      <td>1</td>\n",
       "      <td>130</td>\n",
       "      <td>204</td>\n",
       "      <td>0</td>\n",
       "      <td>0</td>\n",
       "      <td>172</td>\n",
       "      <td>0</td>\n",
       "      <td>1.4</td>\n",
       "      <td>2</td>\n",
       "      <td>0</td>\n",
       "      <td>2</td>\n",
       "      <td>1</td>\n",
       "    </tr>\n",
       "    <tr>\n",
       "      <th>3</th>\n",
       "      <td>56</td>\n",
       "      <td>1</td>\n",
       "      <td>1</td>\n",
       "      <td>120</td>\n",
       "      <td>236</td>\n",
       "      <td>0</td>\n",
       "      <td>1</td>\n",
       "      <td>178</td>\n",
       "      <td>0</td>\n",
       "      <td>0.8</td>\n",
       "      <td>2</td>\n",
       "      <td>0</td>\n",
       "      <td>2</td>\n",
       "      <td>1</td>\n",
       "    </tr>\n",
       "    <tr>\n",
       "      <th>4</th>\n",
       "      <td>57</td>\n",
       "      <td>0</td>\n",
       "      <td>0</td>\n",
       "      <td>120</td>\n",
       "      <td>354</td>\n",
       "      <td>0</td>\n",
       "      <td>1</td>\n",
       "      <td>163</td>\n",
       "      <td>1</td>\n",
       "      <td>0.6</td>\n",
       "      <td>2</td>\n",
       "      <td>0</td>\n",
       "      <td>2</td>\n",
       "      <td>1</td>\n",
       "    </tr>\n",
       "  </tbody>\n",
       "</table>\n",
       "</div>"
      ],
      "text/plain": [
       "   age  sex  cp  trtbps  chol  fbs  restecg  thalachh  exng  oldpeak  slp  \\\n",
       "0   63    1   3     145   233    1        0       150     0      2.3    0   \n",
       "1   37    1   2     130   250    0        1       187     0      3.5    0   \n",
       "2   41    0   1     130   204    0        0       172     0      1.4    2   \n",
       "3   56    1   1     120   236    0        1       178     0      0.8    2   \n",
       "4   57    0   0     120   354    0        1       163     1      0.6    2   \n",
       "\n",
       "   caa  thall  output  \n",
       "0    0      1       1  \n",
       "1    0      2       1  \n",
       "2    0      2       1  \n",
       "3    0      2       1  \n",
       "4    0      2       1  "
      ]
     },
     "execution_count": 9,
     "metadata": {},
     "output_type": "execute_result"
    }
   ],
   "source": [
    "data.head()"
   ]
  },
  {
   "cell_type": "code",
   "execution_count": 10,
   "id": "8718a336-fcdd-48b8-bafc-6cf5fd278404",
   "metadata": {},
   "outputs": [
    {
     "name": "stdout",
     "output_type": "stream",
     "text": [
      "<class 'pandas.core.frame.DataFrame'>\n",
      "RangeIndex: 303 entries, 0 to 302\n",
      "Data columns (total 14 columns):\n",
      " #   Column    Non-Null Count  Dtype  \n",
      "---  ------    --------------  -----  \n",
      " 0   age       303 non-null    int64  \n",
      " 1   sex       303 non-null    int64  \n",
      " 2   cp        303 non-null    int64  \n",
      " 3   trtbps    303 non-null    int64  \n",
      " 4   chol      303 non-null    int64  \n",
      " 5   fbs       303 non-null    int64  \n",
      " 6   restecg   303 non-null    int64  \n",
      " 7   thalachh  303 non-null    int64  \n",
      " 8   exng      303 non-null    int64  \n",
      " 9   oldpeak   303 non-null    float64\n",
      " 10  slp       303 non-null    int64  \n",
      " 11  caa       303 non-null    int64  \n",
      " 12  thall     303 non-null    int64  \n",
      " 13  output    303 non-null    int64  \n",
      "dtypes: float64(1), int64(13)\n",
      "memory usage: 33.3 KB\n"
     ]
    }
   ],
   "source": [
    "data.info()"
   ]
  },
  {
   "cell_type": "code",
   "execution_count": 11,
   "id": "f6b08b42-79ad-4c09-bbe1-02018c03dfd0",
   "metadata": {},
   "outputs": [],
   "source": [
    "# 축약된 이름 풀어쓰기\n",
    "new_column_names = { 'cp' : 'chest_pain', 'trtbps': 'rest_bps', 'chol': 'cholestoral', 'restecg': 'rest_electrocardiographic',\n",
    "              'thalachh': 'max_heartrate', 'exng': 'angina', 'caa': 'major_vessels', 'thall': 'thallassemia' }\n",
    "data = data.rename(columns=new_column_names)"
   ]
  },
  {
   "cell_type": "code",
   "execution_count": 12,
   "id": "bff966f7-e8de-4797-838d-f74c5e3e4066",
   "metadata": {},
   "outputs": [
    {
     "data": {
      "text/plain": [
       "age                            int64\n",
       "sex                            int64\n",
       "chest_pain                     int64\n",
       "rest_bps                       int64\n",
       "cholestoral                    int64\n",
       "fbs                            int64\n",
       "rest_electrocardiographic      int64\n",
       "max_heartrate                  int64\n",
       "angina                         int64\n",
       "oldpeak                      float64\n",
       "slp                            int64\n",
       "major_vessels                  int64\n",
       "thallassemia                   int64\n",
       "output                         int64\n",
       "dtype: object"
      ]
     },
     "execution_count": 12,
     "metadata": {},
     "output_type": "execute_result"
    }
   ],
   "source": [
    "data.dtypes"
   ]
  },
  {
   "cell_type": "markdown",
   "id": "caed88fd-2567-4a5c-8343-01982e1290c4",
   "metadata": {},
   "source": [
    "## Data Grouping"
   ]
  },
  {
   "cell_type": "code",
   "execution_count": 14,
   "id": "15315ec6-3d9d-4a78-bf7d-adacab6b9301",
   "metadata": {},
   "outputs": [
    {
     "name": "stdout",
     "output_type": "stream",
     "text": [
      "age: 41\n",
      "sex: 2\n",
      "chest_pain: 4\n",
      "rest_bps: 49\n",
      "cholestoral: 152\n",
      "fbs: 2\n",
      "rest_electrocardiographic: 3\n",
      "max_heartrate: 91\n",
      "angina: 2\n",
      "oldpeak: 40\n",
      "slp: 3\n",
      "major_vessels: 5\n",
      "thallassemia: 4\n",
      "output: 2\n",
      "Categorical: ['sex', 'chest_pain', 'fbs', 'rest_electrocardiographic', 'angina', 'slp', 'major_vessels', 'thallassemia', 'output']\n",
      "Numerical: ['age', 'rest_bps', 'cholestoral', 'max_heartrate', 'oldpeak']\n"
     ]
    }
   ],
   "source": [
    "categorical_cols, numerical_cols = [], []\n",
    "for col in data.columns:\n",
    "    if (len(data[col].value_counts()) <= 5):\n",
    "        categorical_cols.append(col)\n",
    "    else:\n",
    "        numerical_cols.append(col)\n",
    "    print(f'{col}: {len(data[col].value_counts())}')\n",
    "\n",
    "print('Categorical:', categorical_cols)\n",
    "print('Numerical:', numerical_cols)"
   ]
  },
  {
   "cell_type": "markdown",
   "id": "81aa31a2-5901-4d90-8b54-97b8c5e78db5",
   "metadata": {},
   "source": [
    "## Missing Value Check"
   ]
  },
  {
   "cell_type": "code",
   "execution_count": 16,
   "id": "b6120c40-3e6d-42c1-a45f-014ad8dab3f1",
   "metadata": {},
   "outputs": [
    {
     "name": "stdout",
     "output_type": "stream",
     "text": [
      "Missing Value\n",
      "age                          0\n",
      "sex                          0\n",
      "chest_pain                   0\n",
      "rest_bps                     0\n",
      "cholestoral                  0\n",
      "fbs                          0\n",
      "rest_electrocardiographic    0\n",
      "max_heartrate                0\n",
      "angina                       0\n",
      "oldpeak                      0\n",
      "slp                          0\n",
      "major_vessels                0\n",
      "thallassemia                 0\n",
      "output                       0\n",
      "dtype: int64\n"
     ]
    }
   ],
   "source": [
    "print('Missing Value', data.isnull().sum(), sep='\\n')"
   ]
  },
  {
   "cell_type": "markdown",
   "id": "1a0ead08-e74e-4663-84f1-768b29a2d941",
   "metadata": {},
   "source": [
    "## Gruop Anaysis"
   ]
  },
  {
   "cell_type": "code",
   "execution_count": 18,
   "id": "64b6b089-8fd2-4673-a10f-de39057e3c8e",
   "metadata": {},
   "outputs": [
    {
     "name": "stdout",
     "output_type": "stream",
     "text": [
      "Unique Values in sex\n",
      "1    207\n",
      "0     96\n",
      "Name: count, dtype: int64\n",
      "\n",
      "Unique Values in chest_pain\n",
      "0    143\n",
      "2     87\n",
      "1     50\n",
      "3     23\n",
      "Name: count, dtype: int64\n",
      "\n",
      "Unique Values in fbs\n",
      "0    258\n",
      "1     45\n",
      "Name: count, dtype: int64\n",
      "\n",
      "Unique Values in rest_electrocardiographic\n",
      "1    152\n",
      "0    147\n",
      "2      4\n",
      "Name: count, dtype: int64\n",
      "\n",
      "Unique Values in angina\n",
      "0    204\n",
      "1     99\n",
      "Name: count, dtype: int64\n",
      "\n",
      "Unique Values in slp\n",
      "2    142\n",
      "1    140\n",
      "0     21\n",
      "Name: count, dtype: int64\n",
      "\n",
      "Unique Values in major_vessels\n",
      "0    175\n",
      "1     65\n",
      "2     38\n",
      "3     20\n",
      "4      5\n",
      "Name: count, dtype: int64\n",
      "\n",
      "Unique Values in thallassemia\n",
      "2    166\n",
      "3    117\n",
      "1     18\n",
      "0      2\n",
      "Name: count, dtype: int64\n",
      "\n",
      "Unique Values in output\n",
      "1    165\n",
      "0    138\n",
      "Name: count, dtype: int64\n",
      "\n",
      "######################### \n",
      "\n",
      "Numerical Value\n",
      "              age    rest_bps  cholestoral  max_heartrate     oldpeak\n",
      "count  303.000000  303.000000   303.000000     303.000000  303.000000\n",
      "mean    54.366337  131.623762   246.264026     149.646865    1.039604\n",
      "std      9.082101   17.538143    51.830751      22.905161    1.161075\n",
      "min     29.000000   94.000000   126.000000      71.000000    0.000000\n",
      "25%     47.500000  120.000000   211.000000     133.500000    0.000000\n",
      "50%     55.000000  130.000000   240.000000     153.000000    0.800000\n",
      "75%     61.000000  140.000000   274.500000     166.000000    1.600000\n",
      "max     77.000000  200.000000   564.000000     202.000000    6.200000\n"
     ]
    }
   ],
   "source": [
    "for col in categorical_cols:\n",
    "    print(f'Unique Values in {data[col].value_counts()}\\n')\n",
    "\n",
    "print('#####' * 5, '\\n')\n",
    "\n",
    "print('Numerical Value')\n",
    "print(data[numerical_cols].describe())"
   ]
  },
  {
   "cell_type": "markdown",
   "id": "d50d4ae9-af32-4fa7-93c2-447a7ea43e2c",
   "metadata": {},
   "source": [
    "## 왜도와 첨도\n",
    "- 왜도(Skewness)\n",
    "  - 0: 정규분포\n",
    "  - 양: 오른쪽으로 꼬리가 긴(왼쪽으로 치우친)\n",
    "  - 음: 왼쪽으로 꼬리가 긴(오른쪽으로 치우친)\n",
    "\n",
    "- 첨도(Kurtosis)\n",
    "  - 0: 정규분포\n",
    "  - 큰: 분포 뾰족\n",
    "  - 작: 분포 평평"
   ]
  },
  {
   "cell_type": "code",
   "execution_count": 20,
   "id": "f0b4e67c-fa41-4a9f-a8c9-857f3f7de1c2",
   "metadata": {},
   "outputs": [
    {
     "name": "stdout",
     "output_type": "stream",
     "text": [
      "Skewness\n",
      "age             -0.202463\n",
      "rest_bps         0.713768\n",
      "cholestoral      1.143401\n",
      "max_heartrate   -0.537410\n",
      "oldpeak          1.269720\n",
      "dtype: float64\n",
      "\n",
      "#########################\n",
      "\n",
      "Kurtosis\n",
      "age             -0.542167\n",
      "rest_bps         0.929054\n",
      "cholestoral      4.505423\n",
      "max_heartrate   -0.061970\n",
      "oldpeak          1.575813\n",
      "dtype: float64\n"
     ]
    }
   ],
   "source": [
    "print('Skewness')\n",
    "print(data[numerical_cols].skew(), end='\\n\\n')\n",
    "\n",
    "print('#####' * 5, end='\\n\\n')\n",
    "\n",
    "print('Kurtosis')\n",
    "print(data[numerical_cols].kurt())"
   ]
  },
  {
   "cell_type": "markdown",
   "id": "0f56b961-2c69-4518-accf-94e049c95c44",
   "metadata": {},
   "source": [
    "## Correlation Anaysis"
   ]
  },
  {
   "cell_type": "code",
   "execution_count": 22,
   "id": "9bf4d9c5-216b-49e2-ba09-077cb73aedc6",
   "metadata": {},
   "outputs": [
    {
     "name": "stdout",
     "output_type": "stream",
     "text": [
      "Pearson correlation\n",
      "                    age  rest_bps  cholestoral  max_heartrate   oldpeak\n",
      "age            1.000000  0.279351     0.213678      -0.398522  0.210013\n",
      "rest_bps       0.279351  1.000000     0.123174      -0.046698  0.193216\n",
      "cholestoral    0.213678  0.123174     1.000000      -0.009940  0.053952\n",
      "max_heartrate -0.398522 -0.046698    -0.009940       1.000000 -0.344187\n",
      "oldpeak        0.210013  0.193216     0.053952      -0.344187  1.000000\n",
      "\n",
      "#########################\n",
      "\n",
      "Spearman correlation\n",
      "                    age  rest_bps  cholestoral  max_heartrate   oldpeak\n",
      "age            1.000000  0.285617     0.195786      -0.398052  0.268291\n",
      "rest_bps       0.285617  1.000000     0.126562      -0.040407  0.154267\n",
      "cholestoral    0.195786  0.126562     1.000000      -0.046766  0.045260\n",
      "max_heartrate -0.398052 -0.040407    -0.046766       1.000000 -0.433241\n",
      "oldpeak        0.268291  0.154267     0.045260      -0.433241  1.000000\n"
     ]
    }
   ],
   "source": [
    "print('Pearson correlation')\n",
    "print(data[numerical_cols].corr(method='pearson'), end='\\n\\n')\n",
    "\n",
    "print('#####' * 5, end='\\n\\n')\n",
    "\n",
    "print('Spearman correlation')\n",
    "print(data[numerical_cols].corr(method='spearman'))"
   ]
  }
 ],
 "metadata": {
  "kernelspec": {
   "display_name": "Python 3 (ipykernel)",
   "language": "python",
   "name": "python3"
  },
  "language_info": {
   "codemirror_mode": {
    "name": "ipython",
    "version": 3
   },
   "file_extension": ".py",
   "mimetype": "text/x-python",
   "name": "python",
   "nbconvert_exporter": "python",
   "pygments_lexer": "ipython3",
   "version": "3.12.4"
  }
 },
 "nbformat": 4,
 "nbformat_minor": 5
}
