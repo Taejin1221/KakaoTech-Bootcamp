{
 "cells": [
  {
   "cell_type": "markdown",
   "metadata": {
    "id": "o2A6nokuDOFH"
   },
   "source": [
    "# 파이썬 프로그래밍 II 종합 실습\n",
    "\n",
    "collections 모듈, comprehension, logging, 정규표현식, 멀티스레딩, 멀티프로세싱을 활용합니다.\n",
    "\n"
   ]
  },
  {
   "cell_type": "markdown",
   "metadata": {},
   "source": [
    "# 과제 1: Collections 모듈 활용"
   ]
  },
  {
   "cell_type": "markdown",
   "metadata": {
    "id": "wSeIu_4nDSsP"
   },
   "source": [
    "EXAMPLE_SEQUENCE 값을 활용해보세요."
   ]
  },
  {
   "cell_type": "code",
   "execution_count": 4,
   "metadata": {
    "id": "DOHabDfaDMyp"
   },
   "outputs": [],
   "source": [
    "EXAMPLE_SEQUENCE = ['dog', 'cat', 'mouse', 'parrot', 'frog']\n",
    "\n",
    "from collections import deque, namedtuple, defaultdict, Counter"
   ]
  },
  {
   "cell_type": "markdown",
   "metadata": {},
   "source": [
    "1. Deque: Deque를 생성하고, 요소를 추가하고 제거하는 작업을 해보세요."
   ]
  },
  {
   "cell_type": "code",
   "execution_count": 6,
   "metadata": {},
   "outputs": [
    {
     "name": "stdout",
     "output_type": "stream",
     "text": [
      "deque(['elephant', 'dog', 'cat', 'mouse', 'parrot', 'frog', 'crocodile'])\n",
      "deque(['dog', 'cat', 'mouse', 'parrot', 'frog'])\n"
     ]
    }
   ],
   "source": [
    "dq = deque(EXAMPLE_SEQUENCE)\n",
    "\n",
    "dq.append('crocodile')\n",
    "dq.appendleft('elephant')\n",
    "print(dq)\n",
    "\n",
    "dq.pop()\n",
    "dq.popleft()\n",
    "print(dq)"
   ]
  },
  {
   "cell_type": "markdown",
   "metadata": {},
   "source": [
    "2. Namedtuple: Namedtuple을 정의하고 인스턴스를 생성해보세요."
   ]
  },
  {
   "cell_type": "code",
   "execution_count": 8,
   "metadata": {},
   "outputs": [
    {
     "name": "stdout",
     "output_type": "stream",
     "text": [
      "3 4 5\n",
      "4 5 6\n",
      "Point(x=3, y=4, z=5) Point(x=4, y=5, z=6)\n"
     ]
    }
   ],
   "source": [
    "Point = namedtuple('Point', ['x', 'y', 'z'])\n",
    "p1 = Point(3, 4, 5)\n",
    "p2 = Point(x=4, y=5, z=6)\n",
    "\n",
    "print(p1[0], p1[1], p1[2])\n",
    "print(p2.x, p2.y, p2.z)\n",
    "print(p1, p2)"
   ]
  },
  {
   "cell_type": "markdown",
   "metadata": {},
   "source": [
    "3. Defaultdict: Defaultdict를 사용해보세요. 키가 없을 때 기본값을 설정하세요."
   ]
  },
  {
   "cell_type": "code",
   "execution_count": 10,
   "metadata": {},
   "outputs": [
    {
     "name": "stdout",
     "output_type": "stream",
     "text": [
      "defaultdict(<function <lambda> at 0x15ee1d8a0>, {0: 10, 1: 20, 2: 30})\n"
     ]
    }
   ],
   "source": [
    "dict1 = defaultdict(lambda: 10)\n",
    "\n",
    "dict1[0] += 0\n",
    "dict1[1] += 10\n",
    "dict1[2] += 20\n",
    "\n",
    "print(dict1)"
   ]
  },
  {
   "cell_type": "code",
   "execution_count": 11,
   "metadata": {},
   "outputs": [
    {
     "name": "stdout",
     "output_type": "stream",
     "text": [
      "gene is 26 year old and email is <missing>\n"
     ]
    }
   ],
   "source": [
    "dict2 = defaultdict(lambda: '<missing>')\n",
    "dict2['name'] = 'gene'\n",
    "dict2['age'] = 26\n",
    "\n",
    "print(f'{dict2[\"name\"]} is {dict2[\"age\"]} year old and email is {dict2[\"email\"]}')"
   ]
  },
  {
   "cell_type": "markdown",
   "metadata": {},
   "source": [
    "4. Counter: Counter를 사용해 리스트에서 각 요소의 빈도를 세어보세요."
   ]
  },
  {
   "cell_type": "code",
   "execution_count": 13,
   "metadata": {},
   "outputs": [
    {
     "name": "stdout",
     "output_type": "stream",
     "text": [
      "Counter({0: 1})\n",
      "Counter({'dog': 1, 'cat': 1, 'mouse': 1, 'parrot': 1, 'frog': 1})\n",
      "Counter({'p': 2, 'a': 1, 'l': 1, 'e': 1})\n",
      "0\n",
      "5\n"
     ]
    }
   ],
   "source": [
    "cnt1 = Counter()\n",
    "cnt1[0] += 1\n",
    "print(cnt1)\n",
    "\n",
    "cnt2 = Counter(EXAMPLE_SEQUENCE)\n",
    "print(cnt2)\n",
    "\n",
    "cnt3 = Counter('apple')\n",
    "print(cnt3)\n",
    "print(cnt3['z'])\n",
    "print(cnt3.total())"
   ]
  },
  {
   "cell_type": "markdown",
   "metadata": {},
   "source": [
    "# 과제 2: Comprehension 활용"
   ]
  },
  {
   "cell_type": "markdown",
   "metadata": {
    "id": "VUAClu_dD07F"
   },
   "source": [
    "EXAMPLE_SEQUENCE 값을 활용해보세요."
   ]
  },
  {
   "cell_type": "code",
   "execution_count": 16,
   "metadata": {
    "id": "UXRdE3o0EDwK"
   },
   "outputs": [],
   "source": [
    "EXAMPLE_SEQUENCE = [1, 4, 12, 9, 22, 5, 1, 9]"
   ]
  },
  {
   "cell_type": "markdown",
   "metadata": {},
   "source": [
    "1. 리스트 컴프리헨션: 숫자 리스트의 제곱값을 구하세요."
   ]
  },
  {
   "cell_type": "code",
   "execution_count": 18,
   "metadata": {},
   "outputs": [
    {
     "name": "stdout",
     "output_type": "stream",
     "text": [
      "[1, 16, 144, 81, 484, 25, 1, 81]\n"
     ]
    }
   ],
   "source": [
    "listComp = [x ** 2 for x in EXAMPLE_SEQUENCE]\n",
    "print(listComp)"
   ]
  },
  {
   "cell_type": "markdown",
   "metadata": {},
   "source": [
    "2. 딕셔너리 컴프리헨션: 키가 숫자이고 값이 그 숫자의 제곱인 딕셔너리를 생성하세요."
   ]
  },
  {
   "cell_type": "code",
   "execution_count": 20,
   "metadata": {},
   "outputs": [
    {
     "name": "stdout",
     "output_type": "stream",
     "text": [
      "{1: 1, 4: 16, 12: 144, 9: 81, 22: 484, 5: 25}\n"
     ]
    }
   ],
   "source": [
    "dictComp = {key: val ** 2 for key, val in zip(EXAMPLE_SEQUENCE, EXAMPLE_SEQUENCE)}\n",
    "print(dictComp)"
   ]
  },
  {
   "cell_type": "markdown",
   "metadata": {},
   "source": [
    "3. 집합 컴프리헨션: 중복된 값을 제거한 제곱값 집합을 생성하세요."
   ]
  },
  {
   "cell_type": "code",
   "execution_count": 22,
   "metadata": {},
   "outputs": [
    {
     "name": "stdout",
     "output_type": "stream",
     "text": [
      "{1, 484, 16, 144, 81, 25}\n"
     ]
    }
   ],
   "source": [
    "setComp = {x ** 2 for x in EXAMPLE_SEQUENCE}\n",
    "print(setComp)"
   ]
  },
  {
   "cell_type": "markdown",
   "metadata": {},
   "source": [
    "# 과제 3: Logging 활용"
   ]
  },
  {
   "cell_type": "markdown",
   "metadata": {
    "id": "j-42IEV_Ec35"
   },
   "source": [
    "1. 기본 로깅 설정: 로깅을 설정하고 정보를 로깅하세요. 로그의 형태는 '시간 - 에러레벨 - 메시지' 입니다.\n",
    "\n",
    "2. 예외 로깅: 예외가 발생했을 때 에러를 로깅하세요.\n",
    "\n",
    "- LoggerPractice 참조"
   ]
  },
  {
   "cell_type": "markdown",
   "metadata": {},
   "source": [
    "# 과제 4: 정규 표현식 사용"
   ]
  },
  {
   "cell_type": "markdown",
   "metadata": {
    "id": "VGcHabOVE4mI"
   },
   "source": [
    "1. 기본 패턴 매칭: 이메일 주소를 추출하세요."
   ]
  },
  {
   "cell_type": "code",
   "execution_count": 27,
   "metadata": {},
   "outputs": [],
   "source": [
    "import re"
   ]
  },
  {
   "cell_type": "code",
   "execution_count": 28,
   "metadata": {
    "id": "I-9AqxWWE59J"
   },
   "outputs": [],
   "source": [
    "email = \"MY name is Jhin, my email is kakaotech@goorm.io\""
   ]
  },
  {
   "cell_type": "code",
   "execution_count": 29,
   "metadata": {},
   "outputs": [
    {
     "name": "stdout",
     "output_type": "stream",
     "text": [
      "['kakaotech@goorm.io']\n"
     ]
    }
   ],
   "source": [
    "print(re.findall(r'[A-Za-z0-9]+@[A-Za-z0-9]+\\.[A-Z|a-z]{2,7}', email))"
   ]
  },
  {
   "cell_type": "markdown",
   "metadata": {},
   "source": [
    "2. 기본 패턴 매칭: 비식별화를 진행하세요. ID를 앞 3글자 이외는 모두 '*'로 변경합니다."
   ]
  },
  {
   "cell_type": "code",
   "execution_count": 31,
   "metadata": {},
   "outputs": [],
   "source": [
    "id_list = [\"jhin.lee\", \"lovelove123\", \"세종대왕만세!!\", \"twin에너지123\", \"PostModern\"]"
   ]
  },
  {
   "cell_type": "code",
   "execution_count": 32,
   "metadata": {},
   "outputs": [
    {
     "name": "stdout",
     "output_type": "stream",
     "text": [
      "jhi*****\n",
      "lov********\n",
      "세종대*****\n",
      "twi*******\n",
      "Pos*******\n"
     ]
    }
   ],
   "source": [
    "for id in id_list:\n",
    "    print(id[:3] + re.sub('.', '*', id[3:]))"
   ]
  },
  {
   "cell_type": "code",
   "execution_count": 33,
   "metadata": {},
   "outputs": [
    {
     "name": "stdout",
     "output_type": "stream",
     "text": [
      "jhi*****\n",
      "lov********\n",
      "세종대*****\n",
      "twi*******\n",
      "Pos*******\n"
     ]
    }
   ],
   "source": [
    "for id in id_list:\n",
    "    print(id[:3] + '*' * len(id[3:]))"
   ]
  },
  {
   "cell_type": "markdown",
   "metadata": {},
   "source": [
    "3. 고급 패턴 매칭: HTML 태그를 제거하세요."
   ]
  },
  {
   "cell_type": "code",
   "execution_count": 35,
   "metadata": {},
   "outputs": [
    {
     "name": "stdout",
     "output_type": "stream",
     "text": [
      "Hello, World!\n"
     ]
    }
   ],
   "source": [
    "html = \"<p>Hello, <b>World!</b></p>\"\n",
    "print(re.sub(r\"<.*?>\", \"\", html))"
   ]
  },
  {
   "cell_type": "markdown",
   "metadata": {},
   "source": [
    "# 과제 5: 멀티스레딩과 멀티프로세싱"
   ]
  },
  {
   "cell_type": "markdown",
   "metadata": {
    "id": "tOrX28FZFOYA"
   },
   "source": [
    "1. 스레딩: 한 개의 스레드를 생성하고 실행하는 함수를 작성해주세요."
   ]
  },
  {
   "cell_type": "code",
   "execution_count": 38,
   "metadata": {},
   "outputs": [],
   "source": [
    "import threading, time\n",
    "\n",
    "globalA = 0\n",
    "def print_numbers():\n",
    "    global globalA\n",
    "    for i in range(5):\n",
    "        print('i:', i)\n",
    "        print('globalA:', globalA)\n",
    "\n",
    "        globalA += 1\n",
    "        time.sleep(1)"
   ]
  },
  {
   "cell_type": "code",
   "execution_count": 39,
   "metadata": {},
   "outputs": [
    {
     "name": "stdout",
     "output_type": "stream",
     "text": [
      "i: 0\n",
      "globalA: 0\n",
      "i: 1\n",
      "globalA: 1\n",
      "i: 2\n",
      "globalA: 2\n",
      "i: 3\n",
      "globalA: 3\n",
      "i: 4\n",
      "globalA: 4\n"
     ]
    }
   ],
   "source": [
    "thread1 = threading.Thread(target=print_numbers)\n",
    "thread1.start()\n",
    "thread1.join()"
   ]
  },
  {
   "cell_type": "markdown",
   "metadata": {
    "id": "6t3JDv6eFOEk"
   },
   "source": [
    "2. 멀티스레딩: 두 개의 스레드를 생성하고 실행하세요."
   ]
  },
  {
   "cell_type": "code",
   "execution_count": 41,
   "metadata": {},
   "outputs": [
    {
     "name": "stdout",
     "output_type": "stream",
     "text": [
      "i: 0\n",
      "globalA: 5\n",
      "i: 0\n",
      "globalA: 6\n",
      "i: 1\n",
      "globalA: 7\n",
      "i: 1\n",
      "globalA: 8\n",
      "i: 2\n",
      "globalA: 9\n",
      "i: 2\n",
      "globalA: 10\n",
      "i:i: 3\n",
      "globalA: 11\n",
      " 3\n",
      "globalA: 12\n",
      "i:i: 4\n",
      "globalA: 13\n",
      " 4\n",
      "globalA: 14\n"
     ]
    }
   ],
   "source": [
    "thread2 = threading.Thread(target=print_numbers)\n",
    "thread3 = threading.Thread(target=print_numbers)\n",
    "\n",
    "thread2.start()\n",
    "thread3.start()\n",
    "\n",
    "thread2.join()\n",
    "thread3.join()"
   ]
  },
  {
   "cell_type": "markdown",
   "metadata": {},
   "source": [
    "3. 멀티프로세싱: 두 개의 프로세스를 생성하고 실행하세요.\n",
    "   - MultiprocessPractice.py 참조"
   ]
  }
 ],
 "metadata": {
  "colab": {
   "provenance": []
  },
  "kernelspec": {
   "display_name": "Python 3 (ipykernel)",
   "language": "python",
   "name": "python3"
  },
  "language_info": {
   "codemirror_mode": {
    "name": "ipython",
    "version": 3
   },
   "file_extension": ".py",
   "mimetype": "text/x-python",
   "name": "python",
   "nbconvert_exporter": "python",
   "pygments_lexer": "ipython3",
   "version": "3.12.4"
  }
 },
 "nbformat": 4,
 "nbformat_minor": 4
}
