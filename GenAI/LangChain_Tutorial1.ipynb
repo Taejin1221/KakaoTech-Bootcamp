{
 "cells": [
  {
   "cell_type": "markdown",
   "id": "1501f911-0403-4928-a974-d3767a87763b",
   "metadata": {},
   "source": [
    "# Build a Simple LLM Application with LCEL\n",
    "- LangChain 공식 Tutorial 실습 코드\n",
    "  - [링크](https://python.langchain.com/v0.2/docs/tutorials/llm_chain/)"
   ]
  },
  {
   "cell_type": "markdown",
   "id": "45169e43-d80a-454c-a284-ce6ee792b8fd",
   "metadata": {},
   "source": [
    "# LangChain Test"
   ]
  },
  {
   "cell_type": "code",
   "execution_count": 1,
   "id": "d96b9093-ee49-46f8-97ca-6f63f90d97c3",
   "metadata": {},
   "outputs": [
    {
     "data": {
      "text/plain": [
       "AIMessage(content='Hello! How can I assist you today?', response_metadata={'token_usage': {'completion_tokens': 9, 'prompt_tokens': 11, 'total_tokens': 20}, 'model_name': 'gpt-3.5-turbo-0125', 'system_fingerprint': None, 'finish_reason': 'stop', 'logprobs': None}, id='run-fda6f4c4-0cbd-4fa9-8109-b342e18832b2-0', usage_metadata={'input_tokens': 11, 'output_tokens': 9, 'total_tokens': 20})"
      ]
     },
     "execution_count": 1,
     "metadata": {},
     "output_type": "execute_result"
    }
   ],
   "source": [
    "from langchain_openai import ChatOpenAI\n",
    "\n",
    "llm = ChatOpenAI()\n",
    "llm.invoke(\"Hello, world!\")"
   ]
  },
  {
   "cell_type": "markdown",
   "id": "12499c49-be0c-4d79-9de9-3db7c27612e7",
   "metadata": {},
   "source": [
    "# Using Language Model with LangChain"
   ]
  },
  {
   "cell_type": "code",
   "execution_count": 7,
   "id": "ba8967c7-923c-40fd-ba64-597a808ccfdb",
   "metadata": {},
   "outputs": [],
   "source": [
    "model = ChatOpenAI(model=\"gpt-4o\")"
   ]
  },
  {
   "cell_type": "code",
   "execution_count": 9,
   "id": "3001aa80-6bcc-4705-93df-fbc815285a8f",
   "metadata": {},
   "outputs": [
    {
     "data": {
      "text/plain": [
       "AIMessage(content='안녕하세요!', response_metadata={'token_usage': {'completion_tokens': 3, 'prompt_tokens': 20, 'total_tokens': 23}, 'model_name': 'gpt-4o-2024-05-13', 'system_fingerprint': 'fp_400f27fa1f', 'finish_reason': 'stop', 'logprobs': None}, id='run-014adad0-08df-4bcb-96fb-759e7735349a-0', usage_metadata={'input_tokens': 20, 'output_tokens': 3, 'total_tokens': 23})"
      ]
     },
     "execution_count": 9,
     "metadata": {},
     "output_type": "execute_result"
    }
   ],
   "source": [
    "from langchain_core.messages import HumanMessage, SystemMessage\n",
    "\n",
    "messages = [\n",
    "    SystemMessage(content=\"Translate the following from English to Korean\"),\n",
    "    HumanMessage(content=\"Hello!\")\n",
    "]\n",
    "\n",
    "model.invoke(messages)"
   ]
  },
  {
   "cell_type": "markdown",
   "id": "c50efec6-53f3-408c-8624-45e3e764730a",
   "metadata": {},
   "source": [
    "# Parse the Output"
   ]
  },
  {
   "cell_type": "code",
   "execution_count": 11,
   "id": "9375cf43-eb4c-48c6-8d63-bce2779e9991",
   "metadata": {},
   "outputs": [],
   "source": [
    "from langchain_core.output_parsers import StrOutputParser\n",
    "\n",
    "parser = StrOutputParser()"
   ]
  },
  {
   "cell_type": "code",
   "execution_count": 13,
   "id": "817ad704-8856-4e2a-ad70-c766fdae6497",
   "metadata": {},
   "outputs": [
    {
     "data": {
      "text/plain": [
       "'안녕하세요!'"
      ]
     },
     "execution_count": 13,
     "metadata": {},
     "output_type": "execute_result"
    }
   ],
   "source": [
    "result = model.invoke(messages)\n",
    "parser.invoke(result)"
   ]
  },
  {
   "cell_type": "markdown",
   "id": "4211824c-fcc9-4c3c-aaaa-7d89d5e43bc0",
   "metadata": {},
   "source": [
    "## Chaining"
   ]
  },
  {
   "cell_type": "code",
   "execution_count": 15,
   "id": "6d8256de-5b48-4776-b132-9581fca35669",
   "metadata": {},
   "outputs": [
    {
     "data": {
      "text/plain": [
       "'안녕하세요!'"
      ]
     },
     "execution_count": 15,
     "metadata": {},
     "output_type": "execute_result"
    }
   ],
   "source": [
    "chain = model | parser\n",
    "chain.invoke(messages)"
   ]
  },
  {
   "cell_type": "markdown",
   "id": "18d1b3b2-9e4c-4f3f-a83d-aa97e4b07f54",
   "metadata": {},
   "source": [
    "# Using Prompt Template"
   ]
  },
  {
   "cell_type": "code",
   "execution_count": 17,
   "id": "22a3887d-d739-43d6-a68b-7c56afb49bb4",
   "metadata": {},
   "outputs": [],
   "source": [
    "from langchain_core.prompts import ChatPromptTemplate"
   ]
  },
  {
   "cell_type": "code",
   "execution_count": 19,
   "id": "ee50da76-f04b-4e57-8cc1-668b4ac66923",
   "metadata": {},
   "outputs": [],
   "source": [
    "system_template = \"Translate the following into {language}:\""
   ]
  },
  {
   "cell_type": "code",
   "execution_count": 21,
   "id": "a7b365fb-eee9-457d-8460-aee7f58066ee",
   "metadata": {},
   "outputs": [],
   "source": [
    "prompt_template = ChatPromptTemplate.from_messages(\n",
    "    [(\"system\", system_template), (\"user\", \"{text}\")]\n",
    ")"
   ]
  },
  {
   "cell_type": "code",
   "execution_count": 23,
   "id": "97aef71f-5734-4518-b2b6-3503229cd882",
   "metadata": {},
   "outputs": [
    {
     "data": {
      "text/plain": [
       "ChatPromptValue(messages=[SystemMessage(content='Translate the following into Korean:'), HumanMessage(content='hi')])"
      ]
     },
     "execution_count": 23,
     "metadata": {},
     "output_type": "execute_result"
    }
   ],
   "source": [
    "result = prompt_template.invoke({\"language\": \"Korean\", \"text\": \"hi\"})\n",
    "\n",
    "result"
   ]
  },
  {
   "cell_type": "code",
   "execution_count": 25,
   "id": "6fa4b810-9276-4851-b795-c9a308daae54",
   "metadata": {},
   "outputs": [
    {
     "data": {
      "text/plain": [
       "[SystemMessage(content='Translate the following into Korean:'),\n",
       " HumanMessage(content='hi')]"
      ]
     },
     "execution_count": 25,
     "metadata": {},
     "output_type": "execute_result"
    }
   ],
   "source": [
    "result.to_messages()"
   ]
  },
  {
   "cell_type": "markdown",
   "id": "0e2c032c-c925-4435-a662-f5665d0be234",
   "metadata": {},
   "source": [
    "## Chaining"
   ]
  },
  {
   "cell_type": "code",
   "execution_count": 27,
   "id": "b0e8ae85-55d2-4935-be52-1c3696aa4375",
   "metadata": {},
   "outputs": [
    {
     "data": {
      "text/plain": [
       "'안녕하세요'"
      ]
     },
     "execution_count": 27,
     "metadata": {},
     "output_type": "execute_result"
    }
   ],
   "source": [
    "chain = prompt_template | model | parser\n",
    "chain.invoke({\"language\": \"Korean\", \"text\": \"hi\"})"
   ]
  }
 ],
 "metadata": {
  "kernelspec": {
   "display_name": "Python 3 (ipykernel)",
   "language": "python",
   "name": "python3"
  },
  "language_info": {
   "codemirror_mode": {
    "name": "ipython",
    "version": 3
   },
   "file_extension": ".py",
   "mimetype": "text/x-python",
   "name": "python",
   "nbconvert_exporter": "python",
   "pygments_lexer": "ipython3",
   "version": "3.12.4"
  }
 },
 "nbformat": 4,
 "nbformat_minor": 5
}
