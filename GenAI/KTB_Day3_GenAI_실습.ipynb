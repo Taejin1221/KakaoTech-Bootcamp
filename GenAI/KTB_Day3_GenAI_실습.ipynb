{
 "cells": [
  {
   "cell_type": "markdown",
   "metadata": {
    "id": "zr5LnyrKxjNd"
   },
   "source": [
    "# 파이썬 프로그래밍 종합 실습\n",
    "기본 문법 복습, 자료형, 함수, 클래스와 객체지향 프로그래밍, 제너레이터와 이터레이터, 파일 입출력, 예외 처리를 종합적으로 활용합니다."
   ]
  },
  {
   "cell_type": "markdown",
   "metadata": {
    "id": "MwJQm7MJxvAk"
   },
   "source": [
    "1. 파이썬 기본 문법 복습 및 자료형\n",
    "\n",
    "문제:\n",
    "\n",
    "사용자로부터 이름, 나이, 이메일을 입력받아 딕셔너리에 저장하는 프로그램을 작성하세요.\n",
    "\n",
    "나이와 이메일의 형식을 검증하고, 잘못된 입력이 있으면 예외 처리를 하세요."
   ]
  },
  {
   "cell_type": "code",
   "execution_count": 3,
   "metadata": {
    "colab": {
     "base_uri": "https://localhost:8080/"
    },
    "executionInfo": {
     "elapsed": 6946,
     "status": "ok",
     "timestamp": 1720060524710,
     "user": {
      "displayName": "Taejin An",
      "userId": "04391961696214707238"
     },
     "user_tz": -540
    },
    "id": "yKTAculHxfMp",
    "outputId": "10f64bdb-8095-4b8f-9af6-a50e0c6e272f"
   },
   "outputs": [
    {
     "name": "stdin",
     "output_type": "stream",
     "text": [
      " gene 26 taejin7824@kakao.com\n"
     ]
    },
    {
     "name": "stdout",
     "output_type": "stream",
     "text": [
      "환영합니다 26세 gene님 (E-Mail: taejin7824@kakao.com)\n"
     ]
    }
   ],
   "source": [
    "class NotValidateError(Exception):\n",
    "    def __init__(self, errType, message=\"잘못된 형식\"):\n",
    "        self.errType = errType\n",
    "        self.message = message\n",
    "        super().__init__(f'{errType}: {message}')\n",
    "\n",
    "def validate_age(age):\n",
    "    if (age <= 0):\n",
    "        raise NotValidateError('Age', 'Not valid age')\n",
    "\n",
    "def validate_email(email):\n",
    "    # @가 없으면 잘못된 E-mail\n",
    "    if (email.find('@') == -1):\n",
    "        raise NotValidateError('E-mail', 'No @')\n",
    "    else:\n",
    "        name, domain = email.split('@')\n",
    "        # @ 앞에 아무것도 없으면 잘못된 주소\n",
    "        if (len(name) == 0):\n",
    "            raise NotValidateError('E-mail', 'No local part')\n",
    "\n",
    "        # @ 뒤에 도메인 주소가 없으면 잘못된 주소\n",
    "        if (len(domain) == 0):\n",
    "            raise NotValidateError('E-mail', 'No domain address')\n",
    "        else:\n",
    "            # 도메인 주소에 '.'이 없으면 잘못된 주소\n",
    "            if (domain.find('.') == -1):\n",
    "                raise NotValidateError('E-mail', 'Not valid domain')\n",
    "\n",
    "\n",
    "name, age, email = input().split()\n",
    "try:\n",
    "    validate_age(int(age))\n",
    "    validate_email(email)\n",
    "    print(f'환영합니다 {age}세 {name}님 (E-Mail: {email})')\n",
    "except NotValidateError as e:\n",
    "    print(e)"
   ]
  },
  {
   "cell_type": "markdown",
   "metadata": {
    "id": "in-rBALsyK33"
   },
   "source": [
    "2. 함수 및 클래스와 객체지향 프로그래밍\n",
    "\n",
    "문제:\n",
    "\n",
    "간단한 계산기 클래스를 작성하세요. 이 클래스는 덧셈, 뺄셈, 곱셈, 나눗셈 메서드를 포함합니다.\n",
    "\n",
    "사용자로부터 두 숫자와 연산자를 입력받아 계산 결과를 출력하는 프로그램을 작성하세요."
   ]
  },
  {
   "cell_type": "code",
   "execution_count": 5,
   "metadata": {
    "colab": {
     "base_uri": "https://localhost:8080/"
    },
    "executionInfo": {
     "elapsed": 2745,
     "status": "ok",
     "timestamp": 1720061693629,
     "user": {
      "displayName": "Taejin An",
      "userId": "04391961696214707238"
     },
     "user_tz": -540
    },
    "id": "v-Yn0ydQyQMO",
    "outputId": "82688a51-b3a0-47eb-c34a-c4e7938438bb"
   },
   "outputs": [
    {
     "name": "stdin",
     "output_type": "stream",
     "text": [
      " 17 + 48\n"
     ]
    },
    {
     "name": "stdout",
     "output_type": "stream",
     "text": [
      "65\n"
     ]
    }
   ],
   "source": [
    "class Calculator:\n",
    "    def __init__(self):\n",
    "        self.result = 0\n",
    "\n",
    "    def calculate(self, oper1, oper2, operator):\n",
    "        if (operator == '+'):\n",
    "            return self.add(int(oper1), int(oper2))\n",
    "        elif (operator == '-'):\n",
    "            return self.sub(int(oper1), int(oper2))\n",
    "        elif (operator == '*'):\n",
    "            return self.mul(int(oper1), int(oper2))\n",
    "        elif (operator == '/'):\n",
    "            return self.div(int(oper1), int(oper2))\n",
    "        else:\n",
    "            raise ValueError(\"잘못된 연산자\")\n",
    "\n",
    "    def add(self, oper1, oper2):\n",
    "        self.result = oper1 + oper2\n",
    "\n",
    "        return self.result\n",
    "\n",
    "    def sub(self, oper1, oper2):\n",
    "        self.result = oper1 - oper2\n",
    "\n",
    "        return self.result\n",
    "\n",
    "    def mul(self, oper1, oper2):\n",
    "        self.result = oper1 * oper2\n",
    "\n",
    "        return self.result\n",
    "\n",
    "    def div(self, oper1, oper2):\n",
    "        if (oper2 == 0):\n",
    "            raise ZeroDivisionError()\n",
    "        else:\n",
    "            self.result = oper1 / oper2\n",
    "\n",
    "            return self.result\n",
    "\n",
    "oper1, operator, oper2 = input().split()\n",
    "calculator = Calculator()\n",
    "try:\n",
    "    print(calculator.calculate(oper1, oper2, operator))\n",
    "except ZeroDivisionError as e:\n",
    "    print('0으로 나누면 안됩니다!')\n",
    "except ValueError as e:\n",
    "    print(e)"
   ]
  },
  {
   "cell_type": "markdown",
   "metadata": {
    "id": "OlDjuxSlyZOi"
   },
   "source": [
    "3. 제너레이터와 이터레이터\n",
    "\n",
    "문제:\n",
    "\n",
    "피보나치 수열을 생성하는 제너레이터 함수를 작성하세요.\n",
    "피보나치 수열의 첫 10개 값을 출력하세요."
   ]
  },
  {
   "cell_type": "code",
   "execution_count": 7,
   "metadata": {
    "id": "BkI1jD4GydEa"
   },
   "outputs": [
    {
     "name": "stdout",
     "output_type": "stream",
     "text": [
      "0번째 피보나치 수: 0\n",
      "1번째 피보나치 수: 1\n",
      "2번째 피보나치 수: 1\n",
      "3번째 피보나치 수: 2\n",
      "4번째 피보나치 수: 3\n",
      "5번째 피보나치 수: 5\n",
      "6번째 피보나치 수: 8\n",
      "7번째 피보나치 수: 13\n",
      "8번째 피보나치 수: 21\n",
      "9번째 피보나치 수: 34\n",
      "10번째 피보나치 수: 55\n"
     ]
    }
   ],
   "source": [
    "def fibonacci(n):\n",
    "    prev = [0, 1]\n",
    "    yield prev[0]\n",
    "    yield prev[1]\n",
    "\n",
    "    for i in range(2, n + 1):\n",
    "        result = prev[0] + prev[1]\n",
    "        yield result\n",
    "        prev[0] = prev[1]\n",
    "        prev[1] = result\n",
    "\n",
    "for idx, fib in enumerate(fibonacci(10)):\n",
    "    print(f'{idx}번째 피보나치 수: {fib}')"
   ]
  },
  {
   "cell_type": "markdown",
   "metadata": {
    "id": "O-_Q0pRUycx0"
   },
   "source": [
    "4. 파일 입출력\n",
    "\n",
    "문제:\n",
    "\n",
    "사용자로부터 입력받은 데이터를 파일에 저장하고, 파일 내용을 읽어 출력하는 프로그램을 작성하세요.\n",
    "\n",
    "데이터는 JSON 형식으로 저장하세요"
   ]
  },
  {
   "cell_type": "code",
   "execution_count": 9,
   "metadata": {
    "id": "nyLTxXTHyqKE"
   },
   "outputs": [
    {
     "name": "stdin",
     "output_type": "stream",
     "text": [
      "이름 입력:  gene\n",
      "나이 입력:  26\n",
      "이메일 입력:  taejin7824@kakao.com\n"
     ]
    },
    {
     "name": "stdout",
     "output_type": "stream",
     "text": [
      "{'name': 'gene', 'age': '26', 'email': 'taejin7824@kakao.com'}\n"
     ]
    }
   ],
   "source": [
    "name = input('이름 입력: ')\n",
    "age = input('나이 입력: ')\n",
    "email = input('이메일 입력: ')\n",
    "\n",
    "data = { 'name' : name, 'age' : age, 'email' : email }\n",
    "\n",
    "with open('data.json', 'w') as file:\n",
    "    json.dump(data, file)\n",
    "\n",
    "with open('data.json', 'r') as file:\n",
    "    readData = json.load(file)\n",
    "    print(readData)"
   ]
  },
  {
   "cell_type": "markdown",
   "metadata": {
    "id": "snEMYElhy3Q3"
   },
   "source": [
    "5. Database 연동\n",
    "\n",
    "문제:\n",
    "\n",
    "SQLite 데이터베이스에 사용자 정보를 저장하고, 저장된 데이터를 조회하여 출력하는 프로그램을 작성하세요.\n",
    "\n",
    "테이블은 users로 하고, id, name, age, email 컬럼을 포함합니다."
   ]
  },
  {
   "cell_type": "code",
   "execution_count": 16,
   "metadata": {
    "id": "d8BgUC0ky6_b"
   },
   "outputs": [
    {
     "data": {
      "text/plain": [
       "<sqlite3.Cursor at 0x14d882040>"
      ]
     },
     "execution_count": 16,
     "metadata": {},
     "output_type": "execute_result"
    }
   ],
   "source": [
    "import sqlite3\n",
    "\n",
    "connection = sqlite3.connect('example.db')\n",
    "cursor = connection.cursor()\n",
    "\n",
    "cursor.execute('''CREATE TABLE users (\n",
    "    id INT,\n",
    "    name VARCHAR(10),\n",
    "    age INT,\n",
    "    email VARCHAR(20)\n",
    "    )''')"
   ]
  },
  {
   "cell_type": "code",
   "execution_count": 18,
   "metadata": {},
   "outputs": [
    {
     "data": {
      "text/plain": [
       "<sqlite3.Cursor at 0x14d882040>"
      ]
     },
     "execution_count": 18,
     "metadata": {},
     "output_type": "execute_result"
    }
   ],
   "source": [
    "cursor.execute('''INSERT INTO users VALUES(\n",
    "    1, \"Taejin\", 26, \"taejin7824@kakao.com\")''')\n",
    "cursor.execute('''INSERT INTO users VALUES(\n",
    "    2, \"Gene\", 26, \"taejin7824@gmail.com\")''')\n",
    "cursor.execute('''INSERT INTO users VALUES(\n",
    "    3, \"sql\", 30, \"sql@python.com\")''')"
   ]
  },
  {
   "cell_type": "code",
   "execution_count": 20,
   "metadata": {},
   "outputs": [
    {
     "name": "stdout",
     "output_type": "stream",
     "text": [
      "(1, 'Taejin', 26, 'taejin7824@kakao.com')\n",
      "(2, 'Gene', 26, 'taejin7824@gmail.com')\n",
      "(3, 'sql', 30, 'sql@python.com')\n"
     ]
    }
   ],
   "source": [
    "for row in cursor.execute('''SELECT * FROM users'''):\n",
    "    print(row)"
   ]
  },
  {
   "cell_type": "code",
   "execution_count": 22,
   "metadata": {},
   "outputs": [
    {
     "data": {
      "text/plain": [
       "<sqlite3.Cursor at 0x14d882040>"
      ]
     },
     "execution_count": 22,
     "metadata": {},
     "output_type": "execute_result"
    }
   ],
   "source": [
    "cursor.execute('''DROP TABLE users''')"
   ]
  },
  {
   "cell_type": "markdown",
   "metadata": {
    "id": "qFd9nMWdzMaw"
   },
   "source": [
    "6. 예외 처리\n",
    "\n",
    "문제:\n",
    "\n",
    "사용자로부터 숫자를 입력받아, 그 숫자를 10으로 나누는 프로그램을 작성하세요.\n",
    "\n",
    "0으로 나누는 경우와 숫자가 아닌 값을 입력받는 경우를 처리하세요."
   ]
  },
  {
   "cell_type": "code",
   "execution_count": 25,
   "metadata": {
    "id": "B_0S33jOzPDJ"
   },
   "outputs": [
    {
     "name": "stdin",
     "output_type": "stream",
     "text": [
      " 38129847\n"
     ]
    },
    {
     "name": "stdout",
     "output_type": "stream",
     "text": [
      "num / 10 : 3812984.7\n",
      "10 / num : 2.622617394714435e-07\n"
     ]
    }
   ],
   "source": [
    "try:\n",
    "    num = input()\n",
    "\n",
    "    for n in num:\n",
    "        if (n not in '1234567890'):\n",
    "            raise ValueError(\"숫자를 입력하세요\")\n",
    "\n",
    "    num = int(num)\n",
    "\n",
    "    print(f'num / 10 : {num / 10}')\n",
    "    print(f'10 / num : {10 / num}')\n",
    "except ValueError as e:\n",
    "    print(e)\n",
    "except ZeroDivisionError:\n",
    "    print(\"0으로 나누지 마세요!\")"
   ]
  }
 ],
 "metadata": {
  "colab": {
   "provenance": [
    {
     "file_id": "1oILuVpnWoSBlGOOFYoEnYuD6AHNsexX-",
     "timestamp": 1720059176610
    }
   ]
  },
  "kernelspec": {
   "display_name": "Python 3 (ipykernel)",
   "language": "python",
   "name": "python3"
  },
  "language_info": {
   "codemirror_mode": {
    "name": "ipython",
    "version": 3
   },
   "file_extension": ".py",
   "mimetype": "text/x-python",
   "name": "python",
   "nbconvert_exporter": "python",
   "pygments_lexer": "ipython3",
   "version": "3.12.4"
  }
 },
 "nbformat": 4,
 "nbformat_minor": 4
}
